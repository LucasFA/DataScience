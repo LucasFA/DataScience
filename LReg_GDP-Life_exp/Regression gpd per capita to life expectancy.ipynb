{
 "cells": [
  {
   "cell_type": "markdown",
   "metadata": {},
   "source": [
    "Here we will analyse the relationship between GDP per capita and life expectancy. \n",
    "Data from International Monetary Fund and World Health Organisation."
   ]
  },
  {
   "cell_type": "code",
   "execution_count": 1,
   "metadata": {
    "collapsed": true
   },
   "outputs": [],
   "source": [
    "import sklearn\n",
    "from sklearn.model_selection import cross_val_score\n",
    "from sklearn import linear_model\n",
    "from sklearn.metrics import mean_squared_error, r2_score\n",
    "\n",
    "import matplotlib.pyplot as plt\n",
    "import csv\n",
    "import numpy as np"
   ]
  },
  {
   "cell_type": "code",
   "execution_count": 2,
   "metadata": {
    "collapsed": true
   },
   "outputs": [],
   "source": [
    "def column(n, list):\n",
    "    \"\"\"Ad hoc solution. Avoids indexError, equivalent to list[n]\"\"\"\n",
    "    try:\n",
    "        return list[n]\n",
    "    except:\n",
    "        return \"Error\"\n",
    "    \n",
    "def gdpc(country):\n",
    "    \"\"\"Return GDP per capita for a given country\"\"\"\n",
    "    for row in csv.reader(open('gdpcapita.csv'),delimiter='\\t'):\n",
    "        if row[0]==country:\n",
    "            return row[4]\n",
    "        \n",
    "def lfexp(country):\n",
    "    \"\"\"Return life expectancy for a given country\"\"\"\n",
    "    for row in csv.reader(open('life_expectancy.csv')):\n",
    "        if row[0]==country:\n",
    "            return row[1]"
   ]
  },
  {
   "cell_type": "markdown",
   "metadata": {},
   "source": [
    "Get countries in datasets. If there's a country which is not in both sets, eliminate it."
   ]
  },
  {
   "cell_type": "code",
   "execution_count": 3,
   "metadata": {},
   "outputs": [],
   "source": [
    "#get data in gdp dataset\n",
    "countries = set()\n",
    "with open('gdpcapita.csv') as data:\n",
    "    info = csv.reader(data,delimiter='\\t')\n",
    "    for row in info:\n",
    "        countries.add(column(0,row))\n",
    "    \n",
    "#Eliminate the header from the set\n",
    "\n",
    "to_del = ['Country','Subject','Descriptor','Units','Scale','2015','Estimates', 'Start',\n",
    "          'After', 'International Monetary Fund, World Economic Outlook Database, April 2016']\n",
    "for element in to_del:\n",
    "    countries.discard(element)"
   ]
  },
  {
   "cell_type": "code",
   "execution_count": 4,
   "metadata": {
    "collapsed": true
   },
   "outputs": [],
   "source": [
    "#get countries in life expectancy dataset\n",
    "countries2 = set()\n",
    "with open('life_expectancy.csv',encoding='utf-8') as data:\n",
    "    info = csv.reader(data)\n",
    "    for row in info:\n",
    "        countries2.add(row[0])\n",
    "#Here we haven't deleted the headers, but the next step will do so automatically"
   ]
  },
  {
   "cell_type": "code",
   "execution_count": 5,
   "metadata": {
    "collapsed": true
   },
   "outputs": [],
   "source": [
    "# Find countries in both datasets, and deletes all others\n",
    "countries = countries & countries2\n",
    "\n",
    "#Print data. Now that we have it clean, we may as well enjoy it :)\n",
    "##for country in countries:\n",
    "##    print('{} GDP: {}. life expectancy:{}'.format(country, gdpc(country), lfexp(country)))"
   ]
  },
  {
   "cell_type": "code",
   "execution_count": 6,
   "metadata": {
    "collapsed": true
   },
   "outputs": [],
   "source": [
    "# Creates list with all the data for each country, as a list of lists, in format \n",
    "#[[gdp per capita1,life expectancy1]...]. We don't need to know what country it is for this.\n",
    "\n",
    "data = []\n",
    "for country in countries:\n",
    "    temp = []\n",
    "    temp.extend([gdpc(country),lfexp(country)])\n",
    "    data.append(temp)\n",
    "    del temp"
   ]
  },
  {
   "cell_type": "markdown",
   "metadata": {},
   "source": [
    "The folowwing cell sets the x_values to the GDP per capita, and the y_values to the life expectancy of the country."
   ]
  },
  {
   "cell_type": "code",
   "execution_count": 7,
   "metadata": {
    "collapsed": true
   },
   "outputs": [],
   "source": [
    "# x axis: gdp/capita\n",
    "# y axis: life expectancy\n",
    "x_values = []\n",
    "y_values = []\n",
    "for country in data:\n",
    "    x_values.append(country[0])\n",
    "    y_values.append(country[1])"
   ]
  },
  {
   "cell_type": "code",
   "execution_count": 8,
   "metadata": {
    "collapsed": true
   },
   "outputs": [],
   "source": [
    "#Remove empty data\n",
    "for i in range(len(y_values)-1):\n",
    "    if y_values[i] == None:\n",
    "        del y_values[i]\n",
    "        del x_values[i]\n",
    "        \n",
    "#iterate over all numbers, and over all digits in it (as of now, treated as string). Converts it string -> float. \n",
    "#This is just to delete the ',' separating digits.   It's probably very inefficient\n",
    "\n",
    "for i in range(len(x_values)):           # Over all items\n",
    "    for j in range(len(x_values[i])):    #Over all digits\n",
    "        if x_values[i][j]==',':\n",
    "            temp = x_values[i].split(',')\n",
    "            temp2 = temp[0]+temp[1]\n",
    "            x_values[i] = float(temp2)\n",
    "            break\n",
    "    x_values[i] = float(x_values[i])            "
   ]
  },
  {
   "cell_type": "markdown",
   "metadata": {},
   "source": [
    "Now for the y_values. Then we plot everything."
   ]
  },
  {
   "cell_type": "code",
   "execution_count": 9,
   "metadata": {
    "collapsed": true
   },
   "outputs": [],
   "source": [
    "for i in range(len(y_values)):\n",
    "    y_values[i] = float(y_values[i])"
   ]
  },
  {
   "cell_type": "code",
   "execution_count": 10,
   "metadata": {},
   "outputs": [
    {
     "data": {
      "image/png": "[encoded data removed]",
      "text/plain": [
       "<matplotlib.figure.Figure at 0x226bf502f28>"
      ]
     },
     "metadata": {},
     "output_type": "display_data"
    }
   ],
   "source": [
    "plt.scatter(x_values,y_values)\n",
    "plt.xlabel('GDP per capita')\n",
    "plt.ylabel('Life expectancy')\n",
    "plt.show()"
   ]
  },
  {
   "cell_type": "markdown",
   "metadata": {},
   "source": [
    "This result wasn't actually what I supposed it would be first, but it makes sense. This is called diminishing returns in economics.\n",
    "We can see that this is a logarithmic curve.\n",
    "\n",
    "Because of this, we will take the log of x, so we can perform linear regression. \n",
    "Then, we will convert it back to the original form. The line of best fit will also be converted back, so we can predict life expectancy given a GDP per capita data."
   ]
  },
  {
   "cell_type": "code",
   "execution_count": 11,
   "metadata": {
    "collapsed": true
   },
   "outputs": [],
   "source": [
    "for i in range(len(x_values)):\n",
    "    x_values[i] = np.log(x_values[i])"
   ]
  },
  {
   "cell_type": "code",
   "execution_count": 12,
   "metadata": {},
   "outputs": [
    {
     "data": {
      "image/png": "[encoded data removed]",
      "text/plain": [
       "<matplotlib.figure.Figure at 0x226bf4e9128>"
      ]
     },
     "metadata": {},
     "output_type": "display_data"
    }
   ],
   "source": [
    "plt.scatter(x_values,y_values)\n",
    "plt.show()"
   ]
  },
  {
   "cell_type": "markdown",
   "metadata": {},
   "source": [
    "^ That is the plot of the data, with log(x_values) instead of just x_values.\n",
    "We train the linear regression model"
   ]
  },
  {
   "cell_type": "code",
   "execution_count": 13,
   "metadata": {
    "collapsed": true
   },
   "outputs": [],
   "source": [
    "x_train,x_test,y_train,y_test = sklearn.model_selection.train_test_split(x_values,y_values, test_size=0.25, random_state=9)"
   ]
  },
  {
   "cell_type": "code",
   "execution_count": 14,
   "metadata": {
    "collapsed": true
   },
   "outputs": [],
   "source": [
    "x_train = np.array(x_train).reshape(-1,1)\n",
    "x_test = np.array(x_test).reshape(-1,1)\n",
    "\n",
    "y_train =np.array(y_train).reshape(-1,1)\n",
    "y_test =np.array(y_test).reshape(-1,1)"
   ]
  },
  {
   "cell_type": "code",
   "execution_count": 15,
   "metadata": {},
   "outputs": [
    {
     "name": "stdout",
     "output_type": "stream",
     "text": [
      "MSE for training and test data: \n",
      "6.38284152462e-15\n",
      "-1.8805147164\n"
     ]
    }
   ],
   "source": [
    "lm = linear_model.LinearRegression()\n",
    "lm.fit(x_train.reshape(-1,1),y_train.reshape(-1,1))\n",
    "#Fitted!\n",
    "pred_train = lm.predict(x_train)\n",
    "pred_test = lm.predict(x_test)\n",
    "print('MSE for training and test data: ')\n",
    "print(np.mean(y_train-pred_train))\n",
    "print(np.mean(y_test - pred_test))\n"
   ]
  },
  {
   "cell_type": "code",
   "execution_count": 16,
   "metadata": {
    "scrolled": true
   },
   "outputs": [
    {
     "data": {
      "image/png": "[encoded data removed]",
      "text/plain": [
       "<matplotlib.figure.Figure at 0x226bf897390>"
      ]
     },
     "metadata": {},
     "output_type": "display_data"
    }
   ],
   "source": [
    "plt.title('Life expectancy to log GDP per capita')\n",
    "plt.scatter(x_test, y_test)\n",
    "plt.plot(x_test,pred_test)\n",
    "plt.show()"
   ]
  },
  {
   "cell_type": "markdown",
   "metadata": {},
   "source": [
    "Now we will turn this into the original, logarithmic growth function. We now use the full dataset."
   ]
  },
  {
   "cell_type": "code",
   "execution_count": 17,
   "metadata": {
    "collapsed": true
   },
   "outputs": [],
   "source": [
    "for i in range(len(x_values)-1):\n",
    "    x_values[i] = np.exp(x_values[i])"
   ]
  },
  {
   "cell_type": "code",
   "execution_count": 20,
   "metadata": {
    "scrolled": false
   },
   "outputs": [
    {
     "data": {
      "image/png": "[encoded data removed]",
      "text/plain": [
       "<matplotlib.figure.Figure at 0x226c0c69a20>"
      ]
     },
     "metadata": {},
     "output_type": "display_data"
    }
   ],
   "source": [
    "x_values = np.array(x_values).reshape(-1,1)\n",
    "y_values = np.array(y_values).reshape(-1,1)\n",
    "\n",
    "plt.scatter(x_values,y_values, edgecolors ='k')\n",
    "\n",
    "#Declare foo, to take all the possible values of prediction and joining them.\n",
    "foo = [x for x in range(100, 130000)]\n",
    "foo = np.array(foo).reshape(-1,1)\n",
    "\n",
    "plt.plot(foo, lm.predict(np.log(foo)))\n",
    "plt.show()"
   ]
  },
  {
   "cell_type": "markdown",
   "metadata": {},
   "source": [
    "Further tuning of the model is possible. The rightmost datapoints are off from the prediction. \n",
    "\n",
    "This concludes the analysis."
   ]
  }
 ],
 "metadata": {
  "kernelspec": {
   "display_name": "Python 3",
   "language": "python",
   "name": "python3"
  },
  "language_info": {
   "codemirror_mode": {
    "name": "ipython",
    "version": 3
   },
   "file_extension": ".py",
   "mimetype": "text/x-python",
   "name": "python",
   "nbconvert_exporter": "python",
   "pygments_lexer": "ipython3",
   "version": "3.6.3"
  }
 },
 "nbformat": 4,
 "nbformat_minor": 2
}
